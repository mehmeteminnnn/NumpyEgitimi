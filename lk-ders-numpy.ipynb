{
 "cells": [
  {
   "cell_type": "code",
   "execution_count": null,
   "id": "75601e13",
   "metadata": {
    "_cell_guid": "b1076dfc-b9ad-4769-8c92-a6c4dae69d19",
    "_uuid": "8f2839f25d086af736a60e9eeb907d3b93b6e0e5",
    "execution": {
     "iopub.execute_input": "2022-12-03T09:30:05.110770Z",
     "iopub.status.busy": "2022-12-03T09:30:05.110347Z",
     "iopub.status.idle": "2022-12-03T09:30:05.117695Z",
     "shell.execute_reply": "2022-12-03T09:30:05.116461Z",
     "shell.execute_reply.started": "2022-12-03T09:30:05.110734Z"
    },
    "papermill": {
     "duration": 0.01031,
     "end_time": "2022-12-10T15:32:48.677890",
     "exception": false,
     "start_time": "2022-12-10T15:32:48.667580",
     "status": "completed"
    },
    "tags": []
   },
   "outputs": [],
   "source": []
  },
  {
   "cell_type": "code",
   "execution_count": 1,
   "id": "1d53f0f3",
   "metadata": {
    "execution": {
     "iopub.execute_input": "2022-12-10T15:32:48.698092Z",
     "iopub.status.busy": "2022-12-10T15:32:48.697429Z",
     "iopub.status.idle": "2022-12-10T15:32:48.706984Z",
     "shell.execute_reply": "2022-12-10T15:32:48.705932Z"
    },
    "papermill": {
     "duration": 0.022518,
     "end_time": "2022-12-10T15:32:48.709551",
     "exception": false,
     "start_time": "2022-12-10T15:32:48.687033",
     "status": "completed"
    },
    "tags": []
   },
   "outputs": [],
   "source": [
    "import numpy"
   ]
  },
  {
   "cell_type": "code",
   "execution_count": 2,
   "id": "bd771b94",
   "metadata": {
    "execution": {
     "iopub.execute_input": "2022-12-10T15:32:48.729514Z",
     "iopub.status.busy": "2022-12-10T15:32:48.728835Z",
     "iopub.status.idle": "2022-12-10T15:32:48.733560Z",
     "shell.execute_reply": "2022-12-10T15:32:48.732836Z"
    },
    "papermill": {
     "duration": 0.017144,
     "end_time": "2022-12-10T15:32:48.735656",
     "exception": false,
     "start_time": "2022-12-10T15:32:48.718512",
     "status": "completed"
    },
    "tags": []
   },
   "outputs": [],
   "source": [
    "import numpy as np"
   ]
  },
  {
   "cell_type": "code",
   "execution_count": null,
   "id": "88bc6659",
   "metadata": {
    "execution": {
     "iopub.execute_input": "2022-12-03T09:30:05.133677Z",
     "iopub.status.busy": "2022-12-03T09:30:05.133204Z",
     "iopub.status.idle": "2022-12-03T09:30:05.144746Z",
     "shell.execute_reply": "2022-12-03T09:30:05.143005Z",
     "shell.execute_reply.started": "2022-12-03T09:30:05.133651Z"
    },
    "papermill": {
     "duration": 0.008084,
     "end_time": "2022-12-10T15:32:48.752339",
     "exception": false,
     "start_time": "2022-12-10T15:32:48.744255",
     "status": "completed"
    },
    "tags": []
   },
   "outputs": [],
   "source": []
  },
  {
   "cell_type": "code",
   "execution_count": 3,
   "id": "6c3eea1c",
   "metadata": {
    "execution": {
     "iopub.execute_input": "2022-12-10T15:32:48.772533Z",
     "iopub.status.busy": "2022-12-10T15:32:48.771914Z",
     "iopub.status.idle": "2022-12-10T15:32:48.779426Z",
     "shell.execute_reply": "2022-12-10T15:32:48.778342Z"
    },
    "papermill": {
     "duration": 0.019405,
     "end_time": "2022-12-10T15:32:48.781689",
     "exception": false,
     "start_time": "2022-12-10T15:32:48.762284",
     "status": "completed"
    },
    "tags": []
   },
   "outputs": [
    {
     "name": "stdout",
     "output_type": "stream",
     "text": [
      "[1 2 3 4 5]\n",
      "<class 'numpy.ndarray'>\n"
     ]
    }
   ],
   "source": [
    "import numpy as np\n",
    "array=np.array([1,2,3,4,5])\n",
    "print(array)\n",
    "print(type(array))"
   ]
  },
  {
   "cell_type": "code",
   "execution_count": 4,
   "id": "0783a080",
   "metadata": {
    "execution": {
     "iopub.execute_input": "2022-12-10T15:32:48.801385Z",
     "iopub.status.busy": "2022-12-10T15:32:48.800786Z",
     "iopub.status.idle": "2022-12-10T15:32:48.807439Z",
     "shell.execute_reply": "2022-12-10T15:32:48.806102Z"
    },
    "papermill": {
     "duration": 0.019344,
     "end_time": "2022-12-10T15:32:48.809662",
     "exception": false,
     "start_time": "2022-12-10T15:32:48.790318",
     "status": "completed"
    },
    "tags": []
   },
   "outputs": [
    {
     "name": "stdout",
     "output_type": "stream",
     "text": [
      "[1 2 3 4 5]\n",
      "<class 'numpy.ndarray'>\n"
     ]
    }
   ],
   "source": [
    "import numpy as np\n",
    "array=np.array((1,2,3,4,5))\n",
    "print(array)\n",
    "print(type(array))"
   ]
  },
  {
   "cell_type": "code",
   "execution_count": 5,
   "id": "8cf703e1",
   "metadata": {
    "execution": {
     "iopub.execute_input": "2022-12-10T15:32:48.828874Z",
     "iopub.status.busy": "2022-12-10T15:32:48.828465Z",
     "iopub.status.idle": "2022-12-10T15:32:48.834011Z",
     "shell.execute_reply": "2022-12-10T15:32:48.832986Z"
    },
    "papermill": {
     "duration": 0.018391,
     "end_time": "2022-12-10T15:32:48.836923",
     "exception": false,
     "start_time": "2022-12-10T15:32:48.818532",
     "status": "completed"
    },
    "tags": []
   },
   "outputs": [
    {
     "name": "stdout",
     "output_type": "stream",
     "text": [
      "42\n",
      "<class 'numpy.ndarray'>\n"
     ]
    }
   ],
   "source": [
    "#0 D Boyutlu Numpy Dizileri\n",
    "import numpy as np\n",
    "array=np.array(42)\n",
    "print(array)\n",
    "print(type(array))"
   ]
  },
  {
   "cell_type": "code",
   "execution_count": 6,
   "id": "d3840d65",
   "metadata": {
    "execution": {
     "iopub.execute_input": "2022-12-10T15:32:48.857676Z",
     "iopub.status.busy": "2022-12-10T15:32:48.856521Z",
     "iopub.status.idle": "2022-12-10T15:32:48.863568Z",
     "shell.execute_reply": "2022-12-10T15:32:48.862518Z"
    },
    "papermill": {
     "duration": 0.019005,
     "end_time": "2022-12-10T15:32:48.865705",
     "exception": false,
     "start_time": "2022-12-10T15:32:48.846700",
     "status": "completed"
    },
    "tags": []
   },
   "outputs": [
    {
     "name": "stdout",
     "output_type": "stream",
     "text": [
      "[1 2 3 4 5]\n",
      "<class 'numpy.ndarray'>\n"
     ]
    }
   ],
   "source": [
    "#1d boyutlu numpy dizileri od boyutlu numpy dizilerini kapsar\n",
    "import numpy as np\n",
    "array=np.array([1,2,3,4,5])\n",
    "print(array)\n",
    "print(type(array))"
   ]
  },
  {
   "cell_type": "markdown",
   "id": "c24bdd1c",
   "metadata": {
    "papermill": {
     "duration": 0.008571,
     "end_time": "2022-12-10T15:32:48.883078",
     "exception": false,
     "start_time": "2022-12-10T15:32:48.874507",
     "status": "completed"
    },
    "tags": []
   },
   "source": [
    "#2d boyutlu diziler 1d boyutlu dizilerden oluşur.Genellikle matrisleri ve 2 boyutlu tensörleri ifade eder.\n",
    "\n",
    "\n"
   ]
  },
  {
   "cell_type": "code",
   "execution_count": 7,
   "id": "40378d3a",
   "metadata": {
    "execution": {
     "iopub.execute_input": "2022-12-10T15:32:48.902384Z",
     "iopub.status.busy": "2022-12-10T15:32:48.902002Z",
     "iopub.status.idle": "2022-12-10T15:32:48.912583Z",
     "shell.execute_reply": "2022-12-10T15:32:48.911311Z"
    },
    "papermill": {
     "duration": 0.023037,
     "end_time": "2022-12-10T15:32:48.914947",
     "exception": false,
     "start_time": "2022-12-10T15:32:48.891910",
     "status": "completed"
    },
    "tags": []
   },
   "outputs": [
    {
     "name": "stdout",
     "output_type": "stream",
     "text": [
      "[[1 2 3]\n",
      " [4 5 6]\n",
      " [7 8 9]]\n"
     ]
    },
    {
     "data": {
      "text/plain": [
       "numpy.ndarray"
      ]
     },
     "execution_count": 7,
     "metadata": {},
     "output_type": "execute_result"
    }
   ],
   "source": [
    "import numpy as np\n",
    "array=np.array([[1,2,3],[4,5,6],[7,8,9]])\n",
    "print(array)\n",
    "type(array)"
   ]
  },
  {
   "cell_type": "code",
   "execution_count": 8,
   "id": "86074364",
   "metadata": {
    "execution": {
     "iopub.execute_input": "2022-12-10T15:32:48.935016Z",
     "iopub.status.busy": "2022-12-10T15:32:48.934614Z",
     "iopub.status.idle": "2022-12-10T15:32:48.941267Z",
     "shell.execute_reply": "2022-12-10T15:32:48.940135Z"
    },
    "papermill": {
     "duration": 0.019033,
     "end_time": "2022-12-10T15:32:48.943489",
     "exception": false,
     "start_time": "2022-12-10T15:32:48.924456",
     "status": "completed"
    },
    "tags": []
   },
   "outputs": [
    {
     "name": "stdout",
     "output_type": "stream",
     "text": [
      "[[[ 1  2  3]\n",
      "  [ 4  5  6]]\n",
      "\n",
      " [[ 7  8  9]\n",
      "  [10 11 12]]]\n"
     ]
    }
   ],
   "source": [
    "#3D diziler\n",
    "import numpy as np\n",
    "array=np.array([[[1,2,3],[4,5,6]],[[7,8,9],[10,11,12]]])\n",
    "print(array)"
   ]
  },
  {
   "cell_type": "code",
   "execution_count": 9,
   "id": "633739c6",
   "metadata": {
    "execution": {
     "iopub.execute_input": "2022-12-10T15:32:48.963306Z",
     "iopub.status.busy": "2022-12-10T15:32:48.962892Z",
     "iopub.status.idle": "2022-12-10T15:32:48.972047Z",
     "shell.execute_reply": "2022-12-10T15:32:48.971124Z"
    },
    "papermill": {
     "duration": 0.021605,
     "end_time": "2022-12-10T15:32:48.974315",
     "exception": false,
     "start_time": "2022-12-10T15:32:48.952710",
     "status": "completed"
    },
    "tags": []
   },
   "outputs": [
    {
     "name": "stdout",
     "output_type": "stream",
     "text": [
      "0\n",
      "1\n",
      "2\n",
      "3\n",
      "42 numpy dizisinin boyutu:0\n",
      "[1 2 3 4 5] numpy dizisinin boyutu:1\n",
      "[[1 2 3]\n",
      " [4 5 6]\n",
      " [7 8 9]] numpy dizisinin boyutu:2\n",
      "[[[ 1  2  3]\n",
      "  [ 4  5  6]]\n",
      "\n",
      " [[ 7  8  9]\n",
      "  [10 11 12]]] numpy dizisinin boyutu:3\n"
     ]
    }
   ],
   "source": [
    "import numpy as np\n",
    "array1=np.array(42)\n",
    "array2=np.array([1,2,3,4,5])\n",
    "array3=np.array([[1,2,3],[4,5,6],[7,8,9]])\n",
    "array4=np.array([[[1,2,3],[4,5,6]],[[7,8,9],[10,11,12]]])\n",
    "print(array1.ndim)\n",
    "print(array2.ndim)\n",
    "print(array3.ndim)\n",
    "print(array4.ndim)\n",
    "print(f\"{array1} numpy dizisinin boyutu:{array1.ndim}\")\n",
    "print(f\"{array2} numpy dizisinin boyutu:{array2.ndim}\")\n",
    "print(f\"{array3} numpy dizisinin boyutu:{array3.ndim}\")\n",
    "print(f\"{array4} numpy dizisinin boyutu:{array4.ndim}\")\n",
    "\n",
    "\n",
    "\n",
    "\n"
   ]
  },
  {
   "cell_type": "code",
   "execution_count": 10,
   "id": "a5eba422",
   "metadata": {
    "execution": {
     "iopub.execute_input": "2022-12-10T15:32:48.995028Z",
     "iopub.status.busy": "2022-12-10T15:32:48.994213Z",
     "iopub.status.idle": "2022-12-10T15:32:49.002391Z",
     "shell.execute_reply": "2022-12-10T15:32:49.001283Z"
    },
    "papermill": {
     "duration": 0.021186,
     "end_time": "2022-12-10T15:32:49.004767",
     "exception": false,
     "start_time": "2022-12-10T15:32:48.983581",
     "status": "completed"
    },
    "tags": []
   },
   "outputs": [
    {
     "name": "stdout",
     "output_type": "stream",
     "text": [
      "()\n",
      "(5,)\n",
      "(3, 3)\n",
      "(2, 2, 3)\n"
     ]
    }
   ],
   "source": [
    "import numpy as np\n",
    "array1=np.array(42)\n",
    "array2=np.array([1,2,3,4,5])\n",
    "array3=np.array([[1,2,3],[4,5,6],[7,8,9]])\n",
    "array4=np.array([[[1,2,3],[4,5,6]],[[7,8,9],[10,11,12]]])\n",
    "print(array1.shape)\n",
    "print(array2.shape)\n",
    "print(array3.shape)\n",
    "print(array4.shape)\n",
    "\n",
    "\n",
    "\n"
   ]
  },
  {
   "cell_type": "code",
   "execution_count": 11,
   "id": "245e63b8",
   "metadata": {
    "execution": {
     "iopub.execute_input": "2022-12-10T15:32:49.025316Z",
     "iopub.status.busy": "2022-12-10T15:32:49.024928Z",
     "iopub.status.idle": "2022-12-10T15:32:49.030764Z",
     "shell.execute_reply": "2022-12-10T15:32:49.029667Z"
    },
    "papermill": {
     "duration": 0.018968,
     "end_time": "2022-12-10T15:32:49.033101",
     "exception": false,
     "start_time": "2022-12-10T15:32:49.014133",
     "status": "completed"
    },
    "tags": []
   },
   "outputs": [
    {
     "name": "stdout",
     "output_type": "stream",
     "text": [
      "[[[[[1 2 3 4 5]]]]]\n"
     ]
    }
   ],
   "source": [
    "#nboyutlu dızı\n",
    "array=np.array([1,2,3,4,5],ndmin=5)\n",
    "\n",
    "print(array)"
   ]
  },
  {
   "cell_type": "code",
   "execution_count": 12,
   "id": "a3d1a6b9",
   "metadata": {
    "execution": {
     "iopub.execute_input": "2022-12-10T15:32:49.054051Z",
     "iopub.status.busy": "2022-12-10T15:32:49.053627Z",
     "iopub.status.idle": "2022-12-10T15:32:49.059560Z",
     "shell.execute_reply": "2022-12-10T15:32:49.058448Z"
    },
    "papermill": {
     "duration": 0.019635,
     "end_time": "2022-12-10T15:32:49.062100",
     "exception": false,
     "start_time": "2022-12-10T15:32:49.042465",
     "status": "completed"
    },
    "tags": []
   },
   "outputs": [
    {
     "name": "stdout",
     "output_type": "stream",
     "text": [
      "1.satırda bulunan ikinci eleman: 2\n"
     ]
    }
   ],
   "source": [
    "array=np.array([[1,2,3],[4,5,6]])\n",
    "print(f\"1.satırda bulunan ikinci eleman: {array[0,1]}\" )"
   ]
  },
  {
   "cell_type": "code",
   "execution_count": 13,
   "id": "bd19a499",
   "metadata": {
    "execution": {
     "iopub.execute_input": "2022-12-10T15:32:49.082530Z",
     "iopub.status.busy": "2022-12-10T15:32:49.082153Z",
     "iopub.status.idle": "2022-12-10T15:32:49.089455Z",
     "shell.execute_reply": "2022-12-10T15:32:49.088339Z"
    },
    "papermill": {
     "duration": 0.020535,
     "end_time": "2022-12-10T15:32:49.091977",
     "exception": false,
     "start_time": "2022-12-10T15:32:49.071442",
     "status": "completed"
    },
    "tags": []
   },
   "outputs": [
    {
     "name": "stdout",
     "output_type": "stream",
     "text": [
      "[[1 2]\n",
      " [6 7]]\n",
      "[3]\n"
     ]
    }
   ],
   "source": [
    "array=np.array([[1,2,3,4,5],[6,7,8,9,10]])\n",
    "print(array[0:3,0:2])\n",
    "print(array[0:1,2])"
   ]
  },
  {
   "cell_type": "code",
   "execution_count": 14,
   "id": "a41a6b37",
   "metadata": {
    "execution": {
     "iopub.execute_input": "2022-12-10T15:32:49.113472Z",
     "iopub.status.busy": "2022-12-10T15:32:49.112823Z",
     "iopub.status.idle": "2022-12-10T15:32:49.119776Z",
     "shell.execute_reply": "2022-12-10T15:32:49.118664Z"
    },
    "papermill": {
     "duration": 0.020342,
     "end_time": "2022-12-10T15:32:49.122082",
     "exception": false,
     "start_time": "2022-12-10T15:32:49.101740",
     "status": "completed"
    },
    "tags": []
   },
   "outputs": [
    {
     "data": {
      "text/plain": [
       "dtype('int64')"
      ]
     },
     "execution_count": 14,
     "metadata": {},
     "output_type": "execute_result"
    }
   ],
   "source": [
    "array=np.array([1,2,3,4])\n",
    "array.dtype"
   ]
  },
  {
   "cell_type": "code",
   "execution_count": 15,
   "id": "6d7c1e66",
   "metadata": {
    "execution": {
     "iopub.execute_input": "2022-12-10T15:32:49.143251Z",
     "iopub.status.busy": "2022-12-10T15:32:49.142843Z",
     "iopub.status.idle": "2022-12-10T15:32:49.150353Z",
     "shell.execute_reply": "2022-12-10T15:32:49.148484Z"
    },
    "papermill": {
     "duration": 0.020955,
     "end_time": "2022-12-10T15:32:49.152796",
     "exception": false,
     "start_time": "2022-12-10T15:32:49.131841",
     "status": "completed"
    },
    "tags": []
   },
   "outputs": [
    {
     "name": "stdout",
     "output_type": "stream",
     "text": [
      "['1' '2' 'elma']\n"
     ]
    }
   ],
   "source": [
    "import numpy as np\n",
    "array=np.array([1,2,\"elma\"])\n",
    "array.dtype\n",
    "print(array)"
   ]
  },
  {
   "cell_type": "code",
   "execution_count": 16,
   "id": "a4fc438b",
   "metadata": {
    "execution": {
     "iopub.execute_input": "2022-12-10T15:32:49.174026Z",
     "iopub.status.busy": "2022-12-10T15:32:49.173576Z",
     "iopub.status.idle": "2022-12-10T15:32:49.180564Z",
     "shell.execute_reply": "2022-12-10T15:32:49.179014Z"
    },
    "papermill": {
     "duration": 0.020209,
     "end_time": "2022-12-10T15:32:49.182733",
     "exception": false,
     "start_time": "2022-12-10T15:32:49.162524",
     "status": "completed"
    },
    "tags": []
   },
   "outputs": [
    {
     "name": "stdout",
     "output_type": "stream",
     "text": [
      "[ 1 45  3  4  5]\n",
      "[ 1 45  3  4  5]\n"
     ]
    }
   ],
   "source": [
    "import numpy as np\n",
    "arr=np.array([1,2,3,4,5])\n",
    "x=arr.view()\n",
    "arr[1]=45\n",
    "print(x)\n",
    "print(arr)"
   ]
  },
  {
   "cell_type": "code",
   "execution_count": 17,
   "id": "a57c4b17",
   "metadata": {
    "execution": {
     "iopub.execute_input": "2022-12-10T15:32:49.204236Z",
     "iopub.status.busy": "2022-12-10T15:32:49.203864Z",
     "iopub.status.idle": "2022-12-10T15:32:49.210415Z",
     "shell.execute_reply": "2022-12-10T15:32:49.209263Z"
    },
    "papermill": {
     "duration": 0.019896,
     "end_time": "2022-12-10T15:32:49.212599",
     "exception": false,
     "start_time": "2022-12-10T15:32:49.192703",
     "status": "completed"
    },
    "tags": []
   },
   "outputs": [
    {
     "name": "stdout",
     "output_type": "stream",
     "text": [
      "[1 2 3 4 5]\n",
      "[1 2 9 4 5]\n"
     ]
    }
   ],
   "source": [
    "import numpy as np\n",
    "arr=np.array([1,2,3,4,5])\n",
    "x=arr.copy()    #kopya olusturma ıslemı\n",
    "arr[2]=9\n",
    "print(x)\n",
    "print(arr)"
   ]
  },
  {
   "cell_type": "code",
   "execution_count": 18,
   "id": "a85b465d",
   "metadata": {
    "execution": {
     "iopub.execute_input": "2022-12-10T15:32:49.233950Z",
     "iopub.status.busy": "2022-12-10T15:32:49.233558Z",
     "iopub.status.idle": "2022-12-10T15:32:49.240859Z",
     "shell.execute_reply": "2022-12-10T15:32:49.239666Z"
    },
    "papermill": {
     "duration": 0.020676,
     "end_time": "2022-12-10T15:32:49.243047",
     "exception": false,
     "start_time": "2022-12-10T15:32:49.222371",
     "status": "completed"
    },
    "tags": []
   },
   "outputs": [
    {
     "data": {
      "text/plain": [
       "(2, 3)"
      ]
     },
     "execution_count": 18,
     "metadata": {},
     "output_type": "execute_result"
    }
   ],
   "source": [
    "array=np.array([[1,2,3],[5,67,8]])\n",
    "array.shape #boyutunu belırtır"
   ]
  },
  {
   "cell_type": "code",
   "execution_count": 19,
   "id": "ad64bcb7",
   "metadata": {
    "execution": {
     "iopub.execute_input": "2022-12-10T15:32:49.264780Z",
     "iopub.status.busy": "2022-12-10T15:32:49.264391Z",
     "iopub.status.idle": "2022-12-10T15:32:49.279899Z",
     "shell.execute_reply": "2022-12-10T15:32:49.278837Z"
    },
    "papermill": {
     "duration": 0.029158,
     "end_time": "2022-12-10T15:32:49.282143",
     "exception": false,
     "start_time": "2022-12-10T15:32:49.252985",
     "status": "completed"
    },
    "tags": []
   },
   "outputs": [
    {
     "data": {
      "text/plain": [
       "array([[1, 2, 3, 4],\n",
       "       [6, 7, 8, 9]])"
      ]
     },
     "execution_count": 19,
     "metadata": {},
     "output_type": "execute_result"
    }
   ],
   "source": [
    "array=np.array([1,2,3,4,6,7,8,9])\n",
    "newarray=array.reshape(2,4)\n",
    "newarray  #Verdıgım degerlerden yenı bır array olusturuyor\n",
    "#print(newarray)\n"
   ]
  },
  {
   "cell_type": "code",
   "execution_count": 20,
   "id": "c684a45e",
   "metadata": {
    "execution": {
     "iopub.execute_input": "2022-12-10T15:32:49.304121Z",
     "iopub.status.busy": "2022-12-10T15:32:49.303755Z",
     "iopub.status.idle": "2022-12-10T15:32:49.311722Z",
     "shell.execute_reply": "2022-12-10T15:32:49.310403Z"
    },
    "papermill": {
     "duration": 0.021649,
     "end_time": "2022-12-10T15:32:49.314031",
     "exception": false,
     "start_time": "2022-12-10T15:32:49.292382",
     "status": "completed"
    },
    "tags": []
   },
   "outputs": [
    {
     "data": {
      "text/plain": [
       "array([1, 2, 3, 4, 6, 7, 8, 9])"
      ]
     },
     "execution_count": 20,
     "metadata": {},
     "output_type": "execute_result"
    }
   ],
   "source": [
    "arr=np.array([[1,2,3,4,],[6,7,8,9]])\n",
    "newarr=arr.reshape(-1)\n",
    "newarr"
   ]
  },
  {
   "cell_type": "code",
   "execution_count": 21,
   "id": "917515dd",
   "metadata": {
    "execution": {
     "iopub.execute_input": "2022-12-10T15:32:49.336007Z",
     "iopub.status.busy": "2022-12-10T15:32:49.335622Z",
     "iopub.status.idle": "2022-12-10T15:32:49.340917Z",
     "shell.execute_reply": "2022-12-10T15:32:49.340204Z"
    },
    "papermill": {
     "duration": 0.018756,
     "end_time": "2022-12-10T15:32:49.342951",
     "exception": false,
     "start_time": "2022-12-10T15:32:49.324195",
     "status": "completed"
    },
    "tags": []
   },
   "outputs": [
    {
     "name": "stdout",
     "output_type": "stream",
     "text": [
      "[1 2 3 4 5]\n",
      "[22 66 55 12 33]\n"
     ]
    }
   ],
   "source": [
    "#dizilerde iterasyon\n",
    "array=np.array([[1,2,3,4,5],[22,66,55,12,33]])\n",
    "for x in array:\n",
    "    print(x)"
   ]
  },
  {
   "cell_type": "code",
   "execution_count": 22,
   "id": "11f0ee98",
   "metadata": {
    "execution": {
     "iopub.execute_input": "2022-12-10T15:32:49.366958Z",
     "iopub.status.busy": "2022-12-10T15:32:49.366536Z",
     "iopub.status.idle": "2022-12-10T15:32:49.374429Z",
     "shell.execute_reply": "2022-12-10T15:32:49.372847Z"
    },
    "papermill": {
     "duration": 0.023034,
     "end_time": "2022-12-10T15:32:49.377722",
     "exception": false,
     "start_time": "2022-12-10T15:32:49.354688",
     "status": "completed"
    },
    "tags": []
   },
   "outputs": [
    {
     "name": "stdout",
     "output_type": "stream",
     "text": [
      "1\n",
      "2\n",
      "3\n",
      "4\n",
      "5\n",
      "22\n",
      "66\n",
      "55\n",
      "12\n",
      "33\n"
     ]
    }
   ],
   "source": [
    "array=np.array([[1,2,3,4,5],[22,66,55,12,33]])\n",
    "for x in array:\n",
    "    for y in x:\n",
    "        print(y)"
   ]
  },
  {
   "cell_type": "code",
   "execution_count": 23,
   "id": "c9808de3",
   "metadata": {
    "execution": {
     "iopub.execute_input": "2022-12-10T15:32:49.406784Z",
     "iopub.status.busy": "2022-12-10T15:32:49.405964Z",
     "iopub.status.idle": "2022-12-10T15:32:49.414304Z",
     "shell.execute_reply": "2022-12-10T15:32:49.413498Z"
    },
    "papermill": {
     "duration": 0.024769,
     "end_time": "2022-12-10T15:32:49.416592",
     "exception": false,
     "start_time": "2022-12-10T15:32:49.391823",
     "status": "completed"
    },
    "tags": []
   },
   "outputs": [
    {
     "name": "stdout",
     "output_type": "stream",
     "text": [
      "1\n",
      "2\n",
      "3\n",
      "4\n",
      "5\n",
      "22\n",
      "66\n",
      "55\n",
      "12\n",
      "33\n"
     ]
    }
   ],
   "source": [
    "array=np.array([[1,2,3,4,5],[22,66,55,12,33]])\n",
    "for x in np.nditer(array):  #tamamını yazdırır\n",
    " print(x)"
   ]
  },
  {
   "cell_type": "code",
   "execution_count": 24,
   "id": "3562cb05",
   "metadata": {
    "execution": {
     "iopub.execute_input": "2022-12-10T15:32:49.438935Z",
     "iopub.status.busy": "2022-12-10T15:32:49.438230Z",
     "iopub.status.idle": "2022-12-10T15:32:49.444972Z",
     "shell.execute_reply": "2022-12-10T15:32:49.443592Z"
    },
    "papermill": {
     "duration": 0.020167,
     "end_time": "2022-12-10T15:32:49.447040",
     "exception": false,
     "start_time": "2022-12-10T15:32:49.426873",
     "status": "completed"
    },
    "tags": []
   },
   "outputs": [
    {
     "name": "stdout",
     "output_type": "stream",
     "text": [
      "(0, 0) 1\n",
      "(0, 1) 2\n",
      "(0, 2) 3\n",
      "(0, 3) 4\n",
      "(0, 4) 5\n",
      "(1, 0) 22\n",
      "(1, 1) 66\n",
      "(1, 2) 55\n",
      "(1, 3) 12\n",
      "(1, 4) 33\n"
     ]
    }
   ],
   "source": [
    "array=np.array([[1,2,3,4,5],[22,66,55,12,33]])\n",
    "for idx, item in np.ndenumerate(array):\n",
    "    print(idx,item)"
   ]
  },
  {
   "cell_type": "code",
   "execution_count": 25,
   "id": "08c48532",
   "metadata": {
    "execution": {
     "iopub.execute_input": "2022-12-10T15:32:49.469072Z",
     "iopub.status.busy": "2022-12-10T15:32:49.468736Z",
     "iopub.status.idle": "2022-12-10T15:32:49.475933Z",
     "shell.execute_reply": "2022-12-10T15:32:49.474924Z"
    },
    "papermill": {
     "duration": 0.02044,
     "end_time": "2022-12-10T15:32:49.477863",
     "exception": false,
     "start_time": "2022-12-10T15:32:49.457423",
     "status": "completed"
    },
    "tags": []
   },
   "outputs": [
    {
     "data": {
      "text/plain": [
       "array([ 1,  2,  3, 45, 55,  4,  1,  2])"
      ]
     },
     "execution_count": 25,
     "metadata": {},
     "output_type": "execute_result"
    }
   ],
   "source": [
    "#numpy dizilerini birleştirme\n",
    "arr1=np.array([1,2,3,45])\n",
    "arr2=np.array([55,4,1,2])\n",
    "arrayc=np.concatenate((arr1,arr2))\n",
    "arrayc"
   ]
  },
  {
   "cell_type": "code",
   "execution_count": 26,
   "id": "a44a817a",
   "metadata": {
    "execution": {
     "iopub.execute_input": "2022-12-10T15:32:49.502183Z",
     "iopub.status.busy": "2022-12-10T15:32:49.501823Z",
     "iopub.status.idle": "2022-12-10T15:32:49.513504Z",
     "shell.execute_reply": "2022-12-10T15:32:49.511565Z"
    },
    "papermill": {
     "duration": 0.028299,
     "end_time": "2022-12-10T15:32:49.516418",
     "exception": false,
     "start_time": "2022-12-10T15:32:49.488119",
     "status": "completed"
    },
    "tags": []
   },
   "outputs": [
    {
     "name": "stdout",
     "output_type": "stream",
     "text": [
      "[[ 1  2 55  4]\n",
      " [ 3 45  1  2]]\n"
     ]
    },
    {
     "data": {
      "text/plain": [
       "array([[ 1,  2],\n",
       "       [ 3, 45],\n",
       "       [55,  4],\n",
       "       [ 1,  2]])"
      ]
     },
     "execution_count": 26,
     "metadata": {},
     "output_type": "execute_result"
    }
   ],
   "source": [
    "arr1=np.array([[1,2],[3,45]])\n",
    "arr2=np.array([[55,4],[1,2]])\n",
    "arrayc=np.concatenate((arr1,arr2),axis=1)\n",
    "print(arrayc)\n",
    "arrayc2=np.concatenate((arr1,arr2),axis=0)\n",
    "arrayc2"
   ]
  },
  {
   "cell_type": "code",
   "execution_count": 27,
   "id": "2f978484",
   "metadata": {
    "execution": {
     "iopub.execute_input": "2022-12-10T15:32:49.546954Z",
     "iopub.status.busy": "2022-12-10T15:32:49.546532Z",
     "iopub.status.idle": "2022-12-10T15:32:49.555321Z",
     "shell.execute_reply": "2022-12-10T15:32:49.554192Z"
    },
    "papermill": {
     "duration": 0.025522,
     "end_time": "2022-12-10T15:32:49.557653",
     "exception": false,
     "start_time": "2022-12-10T15:32:49.532131",
     "status": "completed"
    },
    "tags": []
   },
   "outputs": [
    {
     "data": {
      "text/plain": [
       "(array([1]), array([1]))"
      ]
     },
     "execution_count": 27,
     "metadata": {},
     "output_type": "execute_result"
    }
   ],
   "source": [
    "array=np.array([[1,2,3,4,5],[22,66,55,12,33]])\n",
    "x=np.where(array==66)\n",
    "x"
   ]
  },
  {
   "cell_type": "code",
   "execution_count": 28,
   "id": "2a3bd09e",
   "metadata": {
    "execution": {
     "iopub.execute_input": "2022-12-10T15:32:49.580825Z",
     "iopub.status.busy": "2022-12-10T15:32:49.580420Z",
     "iopub.status.idle": "2022-12-10T15:32:49.588380Z",
     "shell.execute_reply": "2022-12-10T15:32:49.587279Z"
    },
    "papermill": {
     "duration": 0.022319,
     "end_time": "2022-12-10T15:32:49.590573",
     "exception": false,
     "start_time": "2022-12-10T15:32:49.568254",
     "status": "completed"
    },
    "tags": []
   },
   "outputs": [
    {
     "data": {
      "text/plain": [
       "array([ 1,  2,  3,  4,  6,  7,  8,  9, 12, 27, 45, 99])"
      ]
     },
     "execution_count": 28,
     "metadata": {},
     "output_type": "execute_result"
    }
   ],
   "source": [
    "array=np.array([1,2,3,4,6,7,8,9,27,12,45,99])\n",
    "np.sort(array)"
   ]
  },
  {
   "cell_type": "code",
   "execution_count": 29,
   "id": "7e1ab1c3",
   "metadata": {
    "execution": {
     "iopub.execute_input": "2022-12-10T15:32:49.617332Z",
     "iopub.status.busy": "2022-12-10T15:32:49.616745Z",
     "iopub.status.idle": "2022-12-10T15:32:49.623231Z",
     "shell.execute_reply": "2022-12-10T15:32:49.622015Z"
    },
    "papermill": {
     "duration": 0.024052,
     "end_time": "2022-12-10T15:32:49.625475",
     "exception": false,
     "start_time": "2022-12-10T15:32:49.601423",
     "status": "completed"
    },
    "tags": []
   },
   "outputs": [
    {
     "data": {
      "text/plain": [
       "array(['1', 'a', 'c', 'd', 'g', 'h'], dtype='<U21')"
      ]
     },
     "execution_count": 29,
     "metadata": {},
     "output_type": "execute_result"
    }
   ],
   "source": [
    "array=np.array([\"h\",\"a\",\"c\",\"d\",\"g\",1])\n",
    "np.sort(array)"
   ]
  },
  {
   "cell_type": "code",
   "execution_count": 30,
   "id": "895d8dd1",
   "metadata": {
    "execution": {
     "iopub.execute_input": "2022-12-10T15:32:49.650384Z",
     "iopub.status.busy": "2022-12-10T15:32:49.649495Z",
     "iopub.status.idle": "2022-12-10T15:32:49.657384Z",
     "shell.execute_reply": "2022-12-10T15:32:49.656577Z"
    },
    "papermill": {
     "duration": 0.022629,
     "end_time": "2022-12-10T15:32:49.659547",
     "exception": false,
     "start_time": "2022-12-10T15:32:49.636918",
     "status": "completed"
    },
    "tags": []
   },
   "outputs": [
    {
     "data": {
      "text/plain": [
       "array([1, 3, 5])"
      ]
     },
     "execution_count": 30,
     "metadata": {},
     "output_type": "execute_result"
    }
   ],
   "source": [
    "array=np.array([1,2,3,4,5])\n",
    "x=[True,False,True,False,True]\n",
    "array[x]"
   ]
  },
  {
   "cell_type": "code",
   "execution_count": 31,
   "id": "990870c9",
   "metadata": {
    "execution": {
     "iopub.execute_input": "2022-12-10T15:32:49.685338Z",
     "iopub.status.busy": "2022-12-10T15:32:49.684219Z",
     "iopub.status.idle": "2022-12-10T15:32:49.693106Z",
     "shell.execute_reply": "2022-12-10T15:32:49.692043Z"
    },
    "papermill": {
     "duration": 0.02482,
     "end_time": "2022-12-10T15:32:49.696296",
     "exception": false,
     "start_time": "2022-12-10T15:32:49.671476",
     "status": "completed"
    },
    "tags": []
   },
   "outputs": [
    {
     "data": {
      "text/plain": [
       "array([ True, False, False, False,  True,  True, False, False, False,\n",
       "       False, False, False])"
      ]
     },
     "execution_count": 31,
     "metadata": {},
     "output_type": "execute_result"
    }
   ],
   "source": [
    "array=np.array([11,55,48,56,1,2,45,78,989,87,197,9754,])\n",
    "array<12"
   ]
  },
  {
   "cell_type": "code",
   "execution_count": 32,
   "id": "ef4cf1c5",
   "metadata": {
    "execution": {
     "iopub.execute_input": "2022-12-10T15:32:49.722421Z",
     "iopub.status.busy": "2022-12-10T15:32:49.722047Z",
     "iopub.status.idle": "2022-12-10T15:32:49.730289Z",
     "shell.execute_reply": "2022-12-10T15:32:49.729147Z"
    },
    "papermill": {
     "duration": 0.023422,
     "end_time": "2022-12-10T15:32:49.732706",
     "exception": false,
     "start_time": "2022-12-10T15:32:49.709284",
     "status": "completed"
    },
    "tags": []
   },
   "outputs": [
    {
     "data": {
      "text/plain": [
       "array([11,  4,  8, 10, 26, 16, 29, 19, 25, 27,  0, 22,  7, 11, 32,  8,  4,\n",
       "       31, 28,  9, 15,  4,  8, 28, 25, 28,  3, 12, 31, 32, 11, 24, 28, 29,\n",
       "       19, 26, 15,  2, 25, 22,  7,  6, 12, 31])"
      ]
     },
     "execution_count": 32,
     "metadata": {},
     "output_type": "execute_result"
    }
   ],
   "source": [
    "#numpy rastgele sayılar\n",
    "array=np.random.randint(33,size=44)\n",
    "array"
   ]
  },
  {
   "cell_type": "code",
   "execution_count": 33,
   "id": "5a63019c",
   "metadata": {
    "execution": {
     "iopub.execute_input": "2022-12-10T15:32:49.758945Z",
     "iopub.status.busy": "2022-12-10T15:32:49.757249Z",
     "iopub.status.idle": "2022-12-10T15:32:49.765231Z",
     "shell.execute_reply": "2022-12-10T15:32:49.764430Z"
    },
    "papermill": {
     "duration": 0.022556,
     "end_time": "2022-12-10T15:32:49.767304",
     "exception": false,
     "start_time": "2022-12-10T15:32:49.744748",
     "status": "completed"
    },
    "tags": []
   },
   "outputs": [
    {
     "data": {
      "text/plain": [
       "array([[ 9,  1, 21, 18, 15],\n",
       "       [14, 13, 23, 16, 12],\n",
       "       [20, 20,  4,  0,  8],\n",
       "       [ 8,  5,  9,  3,  9],\n",
       "       [32, 30, 10, 13,  0]])"
      ]
     },
     "execution_count": 33,
     "metadata": {},
     "output_type": "execute_result"
    }
   ],
   "source": [
    "array=np.random.randint(33,size=(5,5))\n",
    "array"
   ]
  },
  {
   "cell_type": "code",
   "execution_count": null,
   "id": "8eac7ce3",
   "metadata": {
    "papermill": {
     "duration": 0.013099,
     "end_time": "2022-12-10T15:32:49.791905",
     "exception": false,
     "start_time": "2022-12-10T15:32:49.778806",
     "status": "completed"
    },
    "tags": []
   },
   "outputs": [],
   "source": []
  }
 ],
 "metadata": {
  "kernelspec": {
   "display_name": "Python 3",
   "language": "python",
   "name": "python3"
  },
  "language_info": {
   "codemirror_mode": {
    "name": "ipython",
    "version": 3
   },
   "file_extension": ".py",
   "mimetype": "text/x-python",
   "name": "python",
   "nbconvert_exporter": "python",
   "pygments_lexer": "ipython3",
   "version": "3.7.12"
  },
  "papermill": {
   "default_parameters": {},
   "duration": 10.168729,
   "end_time": "2022-12-10T15:32:50.423539",
   "environment_variables": {},
   "exception": null,
   "input_path": "__notebook__.ipynb",
   "output_path": "__notebook__.ipynb",
   "parameters": {},
   "start_time": "2022-12-10T15:32:40.254810",
   "version": "2.3.4"
  }
 },
 "nbformat": 4,
 "nbformat_minor": 5
}
